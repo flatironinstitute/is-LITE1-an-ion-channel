{
 "cells": [
  {
   "cell_type": "code",
   "execution_count": 1,
   "id": "93df544e",
   "metadata": {},
   "outputs": [
    {
     "name": "stdout",
     "output_type": "stream",
     "text": [
      "Populating the interactive namespace from numpy and matplotlib\n"
     ]
    }
   ],
   "source": [
    "%pylab inline"
   ]
  },
  {
   "cell_type": "code",
   "execution_count": 2,
   "id": "cbd34d98",
   "metadata": {},
   "outputs": [],
   "source": [
    "import json"
   ]
  },
  {
   "cell_type": "code",
   "execution_count": 3,
   "id": "ebd96fcd",
   "metadata": {},
   "outputs": [],
   "source": [
    "f = open('ranking_debug.json')"
   ]
  },
  {
   "cell_type": "code",
   "execution_count": 4,
   "id": "07211cb7",
   "metadata": {},
   "outputs": [],
   "source": [
    "data = json.load(f)"
   ]
  },
  {
   "cell_type": "code",
   "execution_count": 5,
   "id": "619be7f8",
   "metadata": {},
   "outputs": [],
   "source": [
    "ordered_scores = []\n",
    "for pdb in data['order']:\n",
    "    ordered_scores.append(data['iptm+ptm'][pdb])"
   ]
  },
  {
   "cell_type": "code",
   "execution_count": 6,
   "id": "1b789cc9",
   "metadata": {},
   "outputs": [],
   "source": [
    "import seaborn as sns"
   ]
  },
  {
   "cell_type": "code",
   "execution_count": 7,
   "id": "7871624f",
   "metadata": {},
   "outputs": [
    {
     "data": {
      "image/png": "[encoded data removed]",
      "text/plain": [
       "<Figure size 288x144 with 1 Axes>"
      ]
     },
     "metadata": {
      "needs_background": "light"
     },
     "output_type": "display_data"
    }
   ],
   "source": [
    "plt.figure(figsize=(4,2))\n",
    "plt.plot(ordered_scores,'o',color='gray')\n",
    "plt.plot((1,12,23,24),(ordered_scores[1],ordered_scores[12],ordered_scores[23],ordered_scores[24]),'mo',label='disulfides')\n",
    "plt.plot(21,ordered_scores[21],'o',color='orange',label='F421 flip')\n",
    "sns.despine()\n",
    "plt.legend()\n",
    "plt.xlabel('ranked models')\n",
    "plt.ylabel('iptm+ptm')\n",
    "plt.savefig('model_rank_LITE1.png',dpi=300,bbox_inches=\"tight\")"
   ]
  },
  {
   "cell_type": "code",
   "execution_count": 8,
   "id": "eb8e78ad",
   "metadata": {},
   "outputs": [
    {
     "data": {
      "text/plain": [
       "['model_1_multimer_v2_pred_1',\n",
       " 'model_1_multimer_v2_pred_3',\n",
       " 'model_1_multimer_v2_pred_4',\n",
       " 'model_3_multimer_v2_pred_1',\n",
       " 'model_3_multimer_v2_pred_0',\n",
       " 'model_3_multimer_v2_pred_4',\n",
       " 'model_1_multimer_v2_pred_0',\n",
       " 'model_3_multimer_v2_pred_3',\n",
       " 'model_1_multimer_v2_pred_2',\n",
       " 'model_3_multimer_v2_pred_2',\n",
       " 'model_4_multimer_v2_pred_1',\n",
       " 'model_4_multimer_v2_pred_4',\n",
       " 'model_5_multimer_v2_pred_0',\n",
       " 'model_2_multimer_v2_pred_2',\n",
       " 'model_4_multimer_v2_pred_2',\n",
       " 'model_2_multimer_v2_pred_4',\n",
       " 'model_2_multimer_v2_pred_1',\n",
       " 'model_2_multimer_v2_pred_3',\n",
       " 'model_2_multimer_v2_pred_0',\n",
       " 'model_5_multimer_v2_pred_1',\n",
       " 'model_4_multimer_v2_pred_3',\n",
       " 'model_5_multimer_v2_pred_3',\n",
       " 'model_5_multimer_v2_pred_4',\n",
       " 'model_4_multimer_v2_pred_0',\n",
       " 'model_5_multimer_v2_pred_2']"
      ]
     },
     "execution_count": 8,
     "metadata": {},
     "output_type": "execute_result"
    }
   ],
   "source": [
    "data['order']"
   ]
  },
  {
   "cell_type": "markdown",
   "id": "47564f36",
   "metadata": {},
   "source": [
    "The three models that we have analyzed more thoroughly in this paper are:"
   ]
  },
  {
   "cell_type": "code",
   "execution_count": 9,
   "id": "740cf39c",
   "metadata": {},
   "outputs": [
    {
     "data": {
      "text/plain": [
       "('model_1_multimer_v2_pred_1',\n",
       " 'model_1_multimer_v2_pred_3',\n",
       " 'model_5_multimer_v2_pred_3')"
      ]
     },
     "execution_count": 9,
     "metadata": {},
     "output_type": "execute_result"
    }
   ],
   "source": [
    "data['order'][0],data['order'][1],data['order'][21]"
   ]
  },
  {
   "cell_type": "markdown",
   "id": "7403ae86",
   "metadata": {},
   "source": [
    " Now we are working on a second figure that indicates the models for which we see differences in S3 and S4:"
   ]
  },
  {
   "cell_type": "code",
   "execution_count": 15,
   "id": "ebde32d7",
   "metadata": {},
   "outputs": [
    {
     "data": {
      "text/plain": [
       "('model_1_multimer_v2_pred_3',\n",
       " 'model_1_multimer_v2_pred_2',\n",
       " 'model_2_multimer_v2_pred_2',\n",
       " 'model_3_multimer_v2_pred_1')"
      ]
     },
     "execution_count": 15,
     "metadata": {},
     "output_type": "execute_result"
    }
   ],
   "source": [
    "#Extended helix in S3 [ILYIVGT]\n",
    "data['order'][1], data['order'][8], data['order'][13], data['order'][3]"
   ]
  },
  {
   "cell_type": "code",
   "execution_count": null,
   "id": "597412d2",
   "metadata": {},
   "outputs": [],
   "source": []
  },
  {
   "cell_type": "code",
   "execution_count": 19,
   "id": "63fcad81",
   "metadata": {},
   "outputs": [
    {
     "data": {
      "text/plain": [
       "('model_5_multimer_v2_pred_3',\n",
       " 'model_4_multimer_v2_pred_3',\n",
       " 'model_4_multimer_v2_pred_0',\n",
       " 'model_5_multimer_v2_pred_2',\n",
       " 'model_5_multimer_v2_pred_4')"
      ]
     },
     "execution_count": 19,
     "metadata": {},
     "output_type": "execute_result"
    }
   ],
   "source": [
    "#Shifted S4 - obvious to see with positions of R222 and C236\n",
    "data['order'][21], data['order'][20], data['order'][23], data['order'][24], data['order'][22]"
   ]
  },
  {
   "cell_type": "code",
   "execution_count": 58,
   "id": "6c6cb278",
   "metadata": {},
   "outputs": [
    {
     "data": {
      "image/png": "[encoded data removed]",
      "text/plain": [
       "<Figure size 360x180 with 1 Axes>"
      ]
     },
     "metadata": {
      "needs_background": "light"
     },
     "output_type": "display_data"
    }
   ],
   "source": [
    "plt.figure(figsize=(5,2.5))\n",
    "plt.plot(ordered_scores,'o',color='gray',markersize=9)\n",
    "plt.plot((1,3,8,13),(ordered_scores[1],ordered_scores[3],ordered_scores[8],ordered_scores[13]),'o',color='greenyellow',label='S3 ext. helix',markersize=8)\n",
    "plt.plot((21,22,23,24),(ordered_scores[21],ordered_scores[22],ordered_scores[23],ordered_scores[24]),'o',color='cyan',label='S4 shift',markersize=8)\n",
    "#plt.plot(21,ordered_scores[21],'o',markeredgecolor='orange', markerfacecolor=\"None\", markeredgewidth=2,markersize=9)\n",
    "#plt.plot((1,12,23,24),(ordered_scores[1],ordered_scores[12],ordered_scores[23],ordered_scores[24]),'o',markeredgecolor='magenta', markerfacecolor=\"None\", markeredgewidth=1,markersize=9)\n",
    "sns.despine()\n",
    "plt.legend(loc=3)\n",
    "plt.xlabel('ranked models')\n",
    "plt.ylabel('iptm+ptm')\n",
    "plt.savefig('model_rank_LITE1-helixS3S4.png',dpi=300,bbox_inches=\"tight\")"
   ]
  },
  {
   "cell_type": "code",
   "execution_count": 56,
   "id": "4c00e4cb",
   "metadata": {},
   "outputs": [
    {
     "data": {
      "image/png": "[encoded data removed]",
      "text/plain": [
       "<Figure size 360x180 with 1 Axes>"
      ]
     },
     "metadata": {
      "needs_background": "light"
     },
     "output_type": "display_data"
    }
   ],
   "source": [
    "plt.figure(figsize=(5,2.5))\n",
    "plt.plot(ordered_scores,'o',color='gray',markersize=9)\n",
    "plt.plot((1,12,23,24),(ordered_scores[1],ordered_scores[12],ordered_scores[23],ordered_scores[24]),'mo',label='disulfides')\n",
    "plt.plot(21,ordered_scores[21],'o',color='orange',label='F421 flip')\n",
    "sns.despine()\n",
    "plt.legend(loc=3)\n",
    "plt.xlabel('ranked models')\n",
    "plt.ylabel('iptm+ptm')\n",
    "plt.savefig('model_rank_LITE1-bigger.png',dpi=300,bbox_inches=\"tight\")"
   ]
  },
  {
   "cell_type": "code",
   "execution_count": null,
   "id": "68220ee5",
   "metadata": {},
   "outputs": [],
   "source": []
  },
  {
   "cell_type": "code",
   "execution_count": null,
   "id": "609901da",
   "metadata": {},
   "outputs": [],
   "source": []
  },
  {
   "cell_type": "code",
   "execution_count": null,
   "id": "d3251f96",
   "metadata": {},
   "outputs": [],
   "source": []
  }
 ],
 "metadata": {
  "kernelspec": {
   "display_name": "Python [conda env:mdtraj] *",
   "language": "python",
   "name": "conda-env-mdtraj-py"
  },
  "language_info": {
   "codemirror_mode": {
    "name": "ipython",
    "version": 3
   },
   "file_extension": ".py",
   "mimetype": "text/x-python",
   "name": "python",
   "nbconvert_exporter": "python",
   "pygments_lexer": "ipython3",
   "version": "3.10.0"
  }
 },
 "nbformat": 4,
 "nbformat_minor": 5
}
