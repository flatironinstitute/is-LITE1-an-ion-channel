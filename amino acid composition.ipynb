{
 "cells": [
  {
   "cell_type": "code",
   "execution_count": 1,
   "id": "03496b8c",
   "metadata": {},
   "outputs": [
    {
     "name": "stdout",
     "output_type": "stream",
     "text": [
      "Populating the interactive namespace from numpy and matplotlib\n"
     ]
    }
   ],
   "source": [
    "%pylab inline"
   ]
  },
  {
   "cell_type": "code",
   "execution_count": 2,
   "id": "ba38ae50",
   "metadata": {},
   "outputs": [],
   "source": [
    "lite1_seq = 'MPPPSSHSNIFHSTFKHTVKETMANAKKTMIAKILSSRNKWAICDRTLYPIYYLLLILGLNQSIRPNNSLLFRIYSWLVFCLLLFTTLRKFNQVGVRPNGTRENLQEFFANPRSMITLCNALIMLSGLLASLQLYTLGAKRLKPLKILCQFSLNVRTKQAERRQFMINTFLAVFSGLLALTMAATYAMSKWGYILYIVGTPNLDTETIFCVLLDSYALFVSRAAISALAILFYQHCSVIRRSIKHLINEMVPAEQDECPLPESSLQKIHDCQISYQRIFNGKAVIEEYYSFVLFYSYGVCIPIFCFLMFVGMSAQSICWSEVVSIVIWIVNAILVLLLFSLPAFMINEDGDRLVASSFRMYHETFHEERDLTVLSQMTFFTFQIHSTKLTLSACNYFYMDRSILLSLFSAILTYFLILWEFDIKNNQSLQNIANHTIHT'"
   ]
  },
  {
   "cell_type": "code",
   "execution_count": 3,
   "id": "9049aea5",
   "metadata": {},
   "outputs": [
    {
     "data": {
      "text/plain": [
       "15"
      ]
     },
     "execution_count": 3,
     "metadata": {},
     "output_type": "execute_result"
    }
   ],
   "source": [
    "lite1_seq.count('M')"
   ]
  },
  {
   "cell_type": "code",
   "execution_count": 4,
   "id": "e0d11c83",
   "metadata": {},
   "outputs": [
    {
     "data": {
      "text/plain": [
       "439"
      ]
     },
     "execution_count": 4,
     "metadata": {},
     "output_type": "execute_result"
    }
   ],
   "source": [
    "len(lite1_seq)"
   ]
  },
  {
   "cell_type": "code",
   "execution_count": 5,
   "id": "5fd09dc8",
   "metadata": {},
   "outputs": [
    {
     "data": {
      "text/plain": [
       "19"
      ]
     },
     "execution_count": 5,
     "metadata": {},
     "output_type": "execute_result"
    }
   ],
   "source": [
    "lite1_seq.count('Y')"
   ]
  },
  {
   "cell_type": "code",
   "execution_count": 6,
   "id": "949a9d78",
   "metadata": {},
   "outputs": [
    {
     "data": {
      "text/plain": [
       "6"
      ]
     },
     "execution_count": 6,
     "metadata": {},
     "output_type": "execute_result"
    }
   ],
   "source": [
    "lite1_seq.count('W')"
   ]
  },
  {
   "cell_type": "code",
   "execution_count": 7,
   "id": "ab745876",
   "metadata": {},
   "outputs": [
    {
     "data": {
      "text/plain": [
       "32"
      ]
     },
     "execution_count": 7,
     "metadata": {},
     "output_type": "execute_result"
    }
   ],
   "source": [
    "lite1_seq.count('F')"
   ]
  },
  {
   "cell_type": "code",
   "execution_count": 8,
   "id": "468d32ae",
   "metadata": {},
   "outputs": [
    {
     "data": {
      "text/plain": [
       "0.01366742596810934"
      ]
     },
     "execution_count": 8,
     "metadata": {},
     "output_type": "execute_result"
    }
   ],
   "source": [
    "6/439 #W should be 1.3%"
   ]
  },
  {
   "cell_type": "code",
   "execution_count": 9,
   "id": "dc0d1e34",
   "metadata": {},
   "outputs": [
    {
     "data": {
      "text/plain": [
       "0.07289293849658314"
      ]
     },
     "execution_count": 9,
     "metadata": {},
     "output_type": "execute_result"
    }
   ],
   "source": [
    "32/439 #F should be 4.0%"
   ]
  },
  {
   "cell_type": "code",
   "execution_count": 10,
   "id": "e990c1d7",
   "metadata": {},
   "outputs": [
    {
     "data": {
      "text/plain": [
       "0.04328018223234624"
      ]
     },
     "execution_count": 10,
     "metadata": {},
     "output_type": "execute_result"
    }
   ],
   "source": [
    "19/439 #Y should be 3.3%"
   ]
  },
  {
   "cell_type": "code",
   "execution_count": 11,
   "id": "eeb90ad6",
   "metadata": {},
   "outputs": [
    {
     "data": {
      "text/plain": [
       "0.025056947608200455"
      ]
     },
     "execution_count": 11,
     "metadata": {},
     "output_type": "execute_result"
    }
   ],
   "source": [
    "lite1_seq.count('H')/len(lite1_seq) #H should be 2.9%"
   ]
  },
  {
   "cell_type": "code",
   "execution_count": 12,
   "id": "503ed3e7",
   "metadata": {},
   "outputs": [
    {
     "data": {
      "text/plain": [
       "0.03416856492027335"
      ]
     },
     "execution_count": 12,
     "metadata": {},
     "output_type": "execute_result"
    }
   ],
   "source": [
    "lite1_seq.count('M')/len(lite1_seq) #M should be 1.8%"
   ]
  },
  {
   "cell_type": "code",
   "execution_count": 13,
   "id": "495faa36",
   "metadata": {},
   "outputs": [
    {
     "data": {
      "text/plain": [
       "0.02733485193621868"
      ]
     },
     "execution_count": 13,
     "metadata": {},
     "output_type": "execute_result"
    }
   ],
   "source": [
    "lite1_seq.count('C')/len(lite1_seq) #C should be 3.3%"
   ]
  },
  {
   "cell_type": "markdown",
   "id": "6c662620",
   "metadata": {},
   "source": [
    "Basically M and F are high."
   ]
  },
  {
   "cell_type": "code",
   "execution_count": null,
   "id": "29b24772",
   "metadata": {},
   "outputs": [],
   "source": []
  },
  {
   "cell_type": "code",
   "execution_count": 14,
   "id": "be71f9e5",
   "metadata": {},
   "outputs": [],
   "source": [
    "gur3_seq = \"MTITASNTLEFKWTSPRSSRSSFRTTTDAEQKISIDMSNTYCDQVLGPLYSYMMVLGLNHTHSSARNTMFKWPLTIYNYLTLAILTAATIRRISQIKQKSATNEEKDAAFHVLNPTFVLTLCHALLMFSGLAAGFLLLKLQKQREKMYHVLDQGLGRNRNEEHDSHHFKLNKLFISISFSFAAALSFVQIATKMRYLDLPDTPDLINRKIYFVILEGYVIFIASSCISLVAILFFQLCRILQFSIGQLIEEMVPKEKEECPLPEQSLQQIHDVQIHYQEISNAKLYIEQNFSFSLFYTYGCCIPLTCLLGYIAFRNGIQADMAETFSVAIWLTNTMLALMLFSIPAFMIAEEGDKLLTASFKMYHETLCEERDLLVLSQMSFLSFQMHATKLTLTAGNFFMMNRKIMISLFSAIFTYFLILVQFDAEKERAGECNNQSRVLIVQPPV\""
   ]
  },
  {
   "cell_type": "code",
   "execution_count": 15,
   "id": "68417fff",
   "metadata": {},
   "outputs": [
    {
     "data": {
      "text/plain": [
       "0.006711409395973154"
      ]
     },
     "execution_count": 15,
     "metadata": {},
     "output_type": "execute_result"
    }
   ],
   "source": [
    "gur3_seq.count('W')/len(gur3_seq) #W should be 1.3%"
   ]
  },
  {
   "cell_type": "code",
   "execution_count": 16,
   "id": "771a5828",
   "metadata": {},
   "outputs": [
    {
     "data": {
      "text/plain": [
       "0.035794183445190156"
      ]
     },
     "execution_count": 16,
     "metadata": {},
     "output_type": "execute_result"
    }
   ],
   "source": [
    "gur3_seq.count('Y')/len(gur3_seq) #Y should be 3.3%"
   ]
  },
  {
   "cell_type": "code",
   "execution_count": 17,
   "id": "76ad473f",
   "metadata": {},
   "outputs": [
    {
     "data": {
      "text/plain": [
       "0.0738255033557047"
      ]
     },
     "execution_count": 17,
     "metadata": {},
     "output_type": "execute_result"
    }
   ],
   "source": [
    "gur3_seq.count('F')/len(gur3_seq) #F should be 4.0%"
   ]
  },
  {
   "cell_type": "code",
   "execution_count": 18,
   "id": "e30889e2",
   "metadata": {},
   "outputs": [
    {
     "data": {
      "text/plain": [
       "0.026845637583892617"
      ]
     },
     "execution_count": 18,
     "metadata": {},
     "output_type": "execute_result"
    }
   ],
   "source": [
    "gur3_seq.count('H')/len(gur3_seq) #H should be 2.9%"
   ]
  },
  {
   "cell_type": "code",
   "execution_count": 19,
   "id": "77ab3d21",
   "metadata": {},
   "outputs": [
    {
     "data": {
      "text/plain": [
       "0.042505592841163314"
      ]
     },
     "execution_count": 19,
     "metadata": {},
     "output_type": "execute_result"
    }
   ],
   "source": [
    "gur3_seq.count('M')/len(gur3_seq) #M should be 1.8%"
   ]
  },
  {
   "cell_type": "code",
   "execution_count": 20,
   "id": "ba83104e",
   "metadata": {},
   "outputs": [
    {
     "data": {
      "text/plain": [
       "0.02237136465324385"
      ]
     },
     "execution_count": 20,
     "metadata": {},
     "output_type": "execute_result"
    }
   ],
   "source": [
    "gur3_seq.count('C')/len(gur3_seq) #C should be 3.3%"
   ]
  },
  {
   "cell_type": "markdown",
   "id": "fe3cadb2",
   "metadata": {},
   "source": [
    "Same -- M and F are high."
   ]
  },
  {
   "cell_type": "code",
   "execution_count": null,
   "id": "0a896be2",
   "metadata": {},
   "outputs": [],
   "source": []
  },
  {
   "cell_type": "markdown",
   "id": "90051f8e",
   "metadata": {},
   "source": [
    "Now to analyze the overall composition from the PFAM website: https://pfam.xfam.org/family/7tm_7#tabview=tab3 Though it's clearly out of date calling these guys GPCRs."
   ]
  },
  {
   "cell_type": "code",
   "execution_count": 21,
   "id": "70ae8462",
   "metadata": {},
   "outputs": [],
   "source": [
    "PFAM_path = \"PF08395_full_length_sequences.fasta\""
   ]
  },
  {
   "cell_type": "code",
   "execution_count": 22,
   "id": "77aea4f3",
   "metadata": {},
   "outputs": [],
   "source": [
    "with open(PFAM_path, 'r') as file:\n",
    "    lines = file.readlines()\n",
    "    lines = [line.rstrip() for line in lines if '>' not in line]"
   ]
  },
  {
   "cell_type": "code",
   "execution_count": 23,
   "id": "135f761b",
   "metadata": {},
   "outputs": [
    {
     "data": {
      "text/plain": [
       "32331"
      ]
     },
     "execution_count": 23,
     "metadata": {},
     "output_type": "execute_result"
    }
   ],
   "source": [
    "len(lines)"
   ]
  },
  {
   "cell_type": "code",
   "execution_count": 24,
   "id": "8597e418",
   "metadata": {},
   "outputs": [
    {
     "data": {
      "text/plain": [
       "1787214"
      ]
     },
     "execution_count": 24,
     "metadata": {},
     "output_type": "execute_result"
    }
   ],
   "source": [
    "len(''.join(lines))"
   ]
  },
  {
   "cell_type": "code",
   "execution_count": 25,
   "id": "9f21c95b",
   "metadata": {},
   "outputs": [],
   "source": [
    "PFAM_sequences = ''.join(lines)"
   ]
  },
  {
   "cell_type": "code",
   "execution_count": 26,
   "id": "0e571ef7",
   "metadata": {},
   "outputs": [
    {
     "data": {
      "text/plain": [
       "0.01362511708167013"
      ]
     },
     "execution_count": 26,
     "metadata": {},
     "output_type": "execute_result"
    }
   ],
   "source": [
    "PFAM_sequences.count('W')/len(PFAM_sequences) #W should be 1.3%"
   ]
  },
  {
   "cell_type": "code",
   "execution_count": 27,
   "id": "011a67d5",
   "metadata": {},
   "outputs": [
    {
     "data": {
      "text/plain": [
       "0.04459398818496274"
      ]
     },
     "execution_count": 27,
     "metadata": {},
     "output_type": "execute_result"
    }
   ],
   "source": [
    "PFAM_sequences.count('Y')/len(PFAM_sequences)  #Y should be 3.3%"
   ]
  },
  {
   "cell_type": "code",
   "execution_count": 28,
   "id": "1b0adfd9",
   "metadata": {},
   "outputs": [
    {
     "data": {
      "text/plain": [
       "0.06673683173923212"
      ]
     },
     "execution_count": 28,
     "metadata": {},
     "output_type": "execute_result"
    }
   ],
   "source": [
    "PFAM_sequences.count('F')/len(PFAM_sequences)  #F should be 4.0%"
   ]
  },
  {
   "cell_type": "code",
   "execution_count": 29,
   "id": "f227427d",
   "metadata": {},
   "outputs": [
    {
     "data": {
      "text/plain": [
       "0.023368773968869983"
      ]
     },
     "execution_count": 29,
     "metadata": {},
     "output_type": "execute_result"
    }
   ],
   "source": [
    "PFAM_sequences.count('H')/len(PFAM_sequences) #H should be 2.9%"
   ]
  },
  {
   "cell_type": "code",
   "execution_count": 30,
   "id": "24eff5f7",
   "metadata": {},
   "outputs": [
    {
     "data": {
      "text/plain": [
       "0.03172087953653004"
      ]
     },
     "execution_count": 30,
     "metadata": {},
     "output_type": "execute_result"
    }
   ],
   "source": [
    "PFAM_sequences.count('M')/len(PFAM_sequences) #M should be 1.8%"
   ]
  },
  {
   "cell_type": "code",
   "execution_count": 31,
   "id": "63817401",
   "metadata": {},
   "outputs": [
    {
     "data": {
      "text/plain": [
       "0.02398313800138092"
      ]
     },
     "execution_count": 31,
     "metadata": {},
     "output_type": "execute_result"
    }
   ],
   "source": [
    "PFAM_sequences.count('C')/len(PFAM_sequences) #C should be 3.3%"
   ]
  },
  {
   "cell_type": "markdown",
   "id": "08d639b3",
   "metadata": {},
   "source": [
    "FYI\n",
    "\n",
    "grep -o '>' PF08395_full_length_sequences.fasta| wc -l \n",
    "\n",
    "    4215\n"
   ]
  },
  {
   "cell_type": "code",
   "execution_count": 32,
   "id": "b9884e29",
   "metadata": {},
   "outputs": [],
   "source": [
    "PFAM = [PFAM_sequences.count('W')/len(PFAM_sequences) *100, \n",
    "        PFAM_sequences.count('M')/len(PFAM_sequences) *100,\n",
    "        PFAM_sequences.count('H')/len(PFAM_sequences) *100,\n",
    "        PFAM_sequences.count('C')/len(PFAM_sequences) *100,\n",
    "        PFAM_sequences.count('Y')/len(PFAM_sequences) *100, \n",
    "        PFAM_sequences.count('F')/len(PFAM_sequences) *100,\n",
    "        PFAM_sequences.count('R')/len(PFAM_sequences) *100,        \n",
    "        PFAM_sequences.count('S')/len(PFAM_sequences) *100]"
   ]
  },
  {
   "cell_type": "code",
   "execution_count": 33,
   "id": "c63bfb7e",
   "metadata": {},
   "outputs": [
    {
     "data": {
      "text/plain": [
       "[1.362511708167013,\n",
       " 3.1720879536530044,\n",
       " 2.3368773968869982,\n",
       " 2.398313800138092,\n",
       " 4.459398818496274,\n",
       " 6.673683173923211,\n",
       " 4.694513359899822,\n",
       " 7.210832054807091]"
      ]
     },
     "execution_count": 33,
     "metadata": {},
     "output_type": "execute_result"
    }
   ],
   "source": [
    "PFAM"
   ]
  },
  {
   "cell_type": "code",
   "execution_count": 34,
   "id": "f7a31025",
   "metadata": {},
   "outputs": [],
   "source": [
    "expected = [1.3,1.8,2.9,3.3,3.3,4.0,4.2,8.1] #from King and Jukes et al Science 1969 - Observed Frequency"
   ]
  },
  {
   "cell_type": "code",
   "execution_count": 35,
   "id": "41428fa4",
   "metadata": {},
   "outputs": [],
   "source": [
    "LITE1 = [lite1_seq.count('W')/len(lite1_seq) *100,\n",
    "        lite1_seq.count('M')/len(lite1_seq) *100,\n",
    "        lite1_seq.count('H')/len(lite1_seq) *100,\n",
    "        lite1_seq.count('C')/len(lite1_seq) *100,\n",
    "        lite1_seq.count('Y')/len(lite1_seq) *100,\n",
    "        lite1_seq.count('F')/len(lite1_seq) *100,\n",
    "        lite1_seq.count('R')/len(lite1_seq) *100,\n",
    "        lite1_seq.count('S')/len(lite1_seq) *100]"
   ]
  },
  {
   "cell_type": "code",
   "execution_count": 36,
   "id": "870ed92f",
   "metadata": {},
   "outputs": [
    {
     "data": {
      "image/png": "[encoded data removed]",
      "text/plain": [
       "<Figure size 432x288 with 1 Axes>"
      ]
     },
     "metadata": {
      "needs_background": "light"
     },
     "output_type": "display_data"
    }
   ],
   "source": [
    "# set width of bar\n",
    "barWidth = 0.25\n",
    "fig = plt.subplots(figsize =(6, 4))\n",
    " \n",
    "# Set position of bar on X axis\n",
    "br1 = np.arange(len(PFAM))\n",
    "br2 = [x + barWidth for x in br1]\n",
    "br3 = [x + barWidth for x in br2]\n",
    " \n",
    "# Make the plot\n",
    "plt.bar(br1, expected, color ='0.7', width = barWidth,\n",
    "        edgecolor ='grey', label ='expected (King 1969)')\n",
    "plt.bar(br2, PFAM, color ='r', width = barWidth,\n",
    "        edgecolor ='grey', label ='PFAM')\n",
    "plt.bar(br3, LITE1, color ='b', width = barWidth,\n",
    "        edgecolor ='grey', label ='LITE-1')\n",
    "\n",
    "# Adding Xticks\n",
    "plt.xlabel('AA', fontsize = 15)\n",
    "plt.ylabel('AA Percent', fontsize = 15)\n",
    "plt.xticks([r + barWidth for r in range(len(PFAM))],\n",
    "        ['W', 'M', 'H', 'C', 'Y', 'F','R','S'], fontweight ='bold', fontsize=12)\n",
    " \n",
    "plt.legend()\n",
    "\n",
    "plt.savefig('AA_composition.png',facecolor='white',transparent=False)"
   ]
  },
  {
   "cell_type": "code",
   "execution_count": 39,
   "id": "b2aec0ae",
   "metadata": {},
   "outputs": [
    {
     "data": {
      "image/png": "[encoded data removed]",
      "text/plain": [
       "<Figure size 432x288 with 1 Axes>"
      ]
     },
     "metadata": {
      "needs_background": "light"
     },
     "output_type": "display_data"
    }
   ],
   "source": [
    "# set width of bar\n",
    "barWidth = 0.25\n",
    "fig = plt.subplots(figsize =(6, 4))\n",
    " \n",
    "# Set position of bar on X axis\n",
    "br1 = np.arange(len(PFAM))\n",
    "br2 = [x + barWidth for x in br1]\n",
    "br3 = [x + barWidth for x in br2]\n",
    " \n",
    "# Make the plot\n",
    "plt.bar(br1, expected, color ='0.7', width = barWidth,\n",
    "        edgecolor ='grey', label ='expected (King 1969)')\n",
    "plt.bar(br2, PFAM, color ='r', width = barWidth,\n",
    "        edgecolor ='grey', label ='PFAM')\n",
    "plt.bar(br3, LITE1, color ='b', width = barWidth,\n",
    "        edgecolor ='grey', label ='LITE-1')\n",
    "\n",
    "# Adding Xticks\n",
    "plt.xlabel('AA', fontsize = 15)\n",
    "plt.ylabel('AA Percent', fontsize = 15)\n",
    "plt.xticks([r + barWidth for r in range(len(PFAM))],\n",
    "        ['W', 'M', 'H', 'C', 'Y', 'F','R','S'], fontweight ='bold', fontsize=12)\n",
    " \n",
    "plt.legend()\n",
    "\n",
    "plt.savefig('AA_composition.svg',facecolor='white',transparent=False);"
   ]
  },
  {
   "cell_type": "code",
   "execution_count": null,
   "id": "55a8567a",
   "metadata": {},
   "outputs": [],
   "source": []
  },
  {
   "cell_type": "code",
   "execution_count": null,
   "id": "81fa97cf",
   "metadata": {},
   "outputs": [],
   "source": []
  },
  {
   "cell_type": "code",
   "execution_count": null,
   "id": "df3fd623",
   "metadata": {},
   "outputs": [],
   "source": []
  },
  {
   "cell_type": "code",
   "execution_count": null,
   "id": "0ebe1cab",
   "metadata": {},
   "outputs": [],
   "source": []
  }
 ],
 "metadata": {
  "kernelspec": {
   "display_name": "Python [conda env:mdtraj] *",
   "language": "python",
   "name": "conda-env-mdtraj-py"
  },
  "language_info": {
   "codemirror_mode": {
    "name": "ipython",
    "version": 3
   },
   "file_extension": ".py",
   "mimetype": "text/x-python",
   "name": "python",
   "nbconvert_exporter": "python",
   "pygments_lexer": "ipython3",
   "version": "3.10.0"
  }
 },
 "nbformat": 4,
 "nbformat_minor": 5
}
