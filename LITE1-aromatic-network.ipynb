{
 "cells": [
  {
   "cell_type": "markdown",
   "id": "8d7f2d20",
   "metadata": {},
   "source": [
    "In this notebook, we are visualizing the network of Y's and W's in LITE-1."
   ]
  },
  {
   "cell_type": "code",
   "execution_count": 1,
   "id": "8a281495",
   "metadata": {},
   "outputs": [
    {
     "name": "stdout",
     "output_type": "stream",
     "text": [
      "Populating the interactive namespace from numpy and matplotlib\n"
     ]
    }
   ],
   "source": [
    "%pylab inline"
   ]
  },
  {
   "cell_type": "code",
   "execution_count": 2,
   "id": "2fd582f9",
   "metadata": {},
   "outputs": [],
   "source": [
    "import pandas as pd\n",
    "import matplotlib.pyplot as plt\n",
    "import mdtraj as md"
   ]
  },
  {
   "cell_type": "code",
   "execution_count": 3,
   "id": "3dd328d9",
   "metadata": {},
   "outputs": [],
   "source": [
    "my_pdb = \"models/LITE1/multimer_LITE1_renumber.pdb\""
   ]
  },
  {
   "cell_type": "code",
   "execution_count": 4,
   "id": "4e0e1e08",
   "metadata": {},
   "outputs": [],
   "source": [
    "traj = md.load(my_pdb)\n",
    "top = traj.topology"
   ]
  },
  {
   "cell_type": "code",
   "execution_count": 5,
   "id": "ff805dca",
   "metadata": {},
   "outputs": [],
   "source": [
    "TRP_atoms = top.select('resname TRP')\n",
    "TRP_index = [top.atom(i).residue.index for i in TRP_atoms]\n",
    "TRP_index_list = list(set(TRP_index))"
   ]
  },
  {
   "cell_type": "code",
   "execution_count": 6,
   "id": "cdaa7eae",
   "metadata": {},
   "outputs": [],
   "source": [
    "TYR_atoms = top.select('resname TYR')\n",
    "TYR_index = [top.atom(i).residue.index for i in TYR_atoms]\n",
    "TYR_index_list = list(set(TYR_index))"
   ]
  },
  {
   "cell_type": "code",
   "execution_count": 7,
   "id": "42292afa",
   "metadata": {},
   "outputs": [],
   "source": [
    "TRP_TYR_index_list = TYR_index_list\n",
    "TRP_TYR_index_list.extend(TRP_index_list)\n",
    "TRP_TYR_index_list.sort()"
   ]
  },
  {
   "cell_type": "code",
   "execution_count": 8,
   "id": "110667ca",
   "metadata": {},
   "outputs": [
    {
     "data": {
      "text/plain": [
       "100"
      ]
     },
     "execution_count": 8,
     "metadata": {},
     "output_type": "execute_result"
    }
   ],
   "source": [
    "length = len(TRP_TYR_index_list)\n",
    "length"
   ]
  },
  {
   "cell_type": "code",
   "execution_count": 9,
   "id": "b36ac125",
   "metadata": {},
   "outputs": [],
   "source": [
    "import itertools"
   ]
  },
  {
   "cell_type": "code",
   "execution_count": 10,
   "id": "d79368e8",
   "metadata": {},
   "outputs": [],
   "source": [
    "pairs = list(itertools.product(TRP_TYR_index_list,TRP_TYR_index_list))"
   ]
  },
  {
   "cell_type": "code",
   "execution_count": 11,
   "id": "410d2f0e",
   "metadata": {},
   "outputs": [],
   "source": [
    "TYR_TRP_pair_distances = md.compute_contacts(traj[0],pairs,'closest')"
   ]
  },
  {
   "cell_type": "code",
   "execution_count": 12,
   "id": "34da3a07",
   "metadata": {},
   "outputs": [],
   "source": [
    "distances_store = []\n",
    "res_pair_idx_store = []\n",
    "residue_store = []\n",
    "res_close_res_count = []\n",
    "for residue in range(length):\n",
    "    distances = TYR_TRP_pair_distances[0].T[residue*length:residue*length+length]\n",
    "    distances_store.append(distances)\n",
    "    res_pair_idx = [idx for idx, val in enumerate(distances) if 0.0 < val < 1.4]\n",
    "    res_pair_idx_store.append(res_pair_idx)\n",
    "    these_pairs = [TYR_TRP_pair_distances[1][idx] for idx in res_pair_idx]\n",
    "    residue_store.append([top.residue(pair[1]) for pair in these_pairs])\n",
    "    res_close_res_count.append(len(res_pair_idx))"
   ]
  },
  {
   "cell_type": "code",
   "execution_count": 13,
   "id": "ed401474",
   "metadata": {},
   "outputs": [],
   "source": [
    "dict_source = []\n",
    "dict_target = []\n",
    "dict_distances = []"
   ]
  },
  {
   "cell_type": "code",
   "execution_count": 14,
   "id": "2fb867e7",
   "metadata": {},
   "outputs": [],
   "source": [
    "for i in range(0,int(length/4)):\n",
    "    res = '%s'%top.residue(TYR_TRP_pair_distances[1][i*length][0])\n",
    "    dict_source.append([res]*len(residue_store[i]))\n",
    "    dict_target.append(['%s'%this for this in residue_store[i]])\n",
    "    these_distances = distances_store[i][res_pair_idx_store[i]]\n",
    "    dict_distances.append([j[0] for j in these_distances.tolist()])"
   ]
  },
  {
   "cell_type": "code",
   "execution_count": 15,
   "id": "50dcbce7",
   "metadata": {},
   "outputs": [],
   "source": [
    "flat_dict_source = [item for sublist in dict_source for item in sublist]"
   ]
  },
  {
   "cell_type": "code",
   "execution_count": 16,
   "id": "dd7aebba",
   "metadata": {},
   "outputs": [],
   "source": [
    "flat_dict_target = [item for sublist in dict_target for item in sublist]"
   ]
  },
  {
   "cell_type": "code",
   "execution_count": 17,
   "id": "9cf215a3",
   "metadata": {},
   "outputs": [],
   "source": [
    "flat_dict_distances = [item for sublist in dict_distances for item in sublist]"
   ]
  },
  {
   "cell_type": "code",
   "execution_count": 18,
   "id": "922b7d79",
   "metadata": {},
   "outputs": [],
   "source": [
    "aromatic_dict = {'source': flat_dict_source , 'target': flat_dict_target, 'weight': flat_dict_distances }"
   ]
  },
  {
   "cell_type": "code",
   "execution_count": 19,
   "id": "b116253d",
   "metadata": {},
   "outputs": [],
   "source": [
    "aromatic_df = pd.DataFrame(data=aromatic_dict)"
   ]
  },
  {
   "cell_type": "code",
   "execution_count": 20,
   "id": "e034be6c",
   "metadata": {},
   "outputs": [],
   "source": [
    "import networkx as nx"
   ]
  },
  {
   "cell_type": "code",
   "execution_count": 21,
   "id": "4b64aeb2",
   "metadata": {},
   "outputs": [],
   "source": [
    "G = nx.from_pandas_edgelist(aromatic_df,source='source',target='target',edge_attr=\"weight\")"
   ]
  },
  {
   "cell_type": "code",
   "execution_count": 22,
   "id": "a4ed6597",
   "metadata": {},
   "outputs": [
    {
     "data": {
      "text/plain": [
       "NodeView(('TRP41', 'TYR49', 'TYR52', 'TYR53', 'TYR135', 'TYR288', 'TYR289', 'TYR75', 'TYR233', 'TYR216', 'TRP77', 'TYR295', 'TYR186', 'TRP191', 'TYR193', 'TYR196', 'TRP319', 'TRP328', 'TYR297', 'TYR396', 'TYR275', 'TYR361', 'TYR398', 'TYR414', 'TRP419'))"
      ]
     },
     "execution_count": 22,
     "metadata": {},
     "output_type": "execute_result"
    }
   ],
   "source": [
    "G.nodes"
   ]
  },
  {
   "cell_type": "code",
   "execution_count": null,
   "id": "644b879a",
   "metadata": {},
   "outputs": [],
   "source": []
  },
  {
   "cell_type": "code",
   "execution_count": 23,
   "id": "dc59b143",
   "metadata": {},
   "outputs": [],
   "source": [
    "import pyvis\n",
    "from pyvis.network import Network"
   ]
  },
  {
   "cell_type": "code",
   "execution_count": 24,
   "id": "90afd41d",
   "metadata": {},
   "outputs": [
    {
     "name": "stdout",
     "output_type": "stream",
     "text": [
      "Local cdn resources have problems on chrome/safari when used in jupyter-notebook. \n"
     ]
    }
   ],
   "source": [
    "net = Network(notebook=True)"
   ]
  },
  {
   "cell_type": "code",
   "execution_count": 25,
   "id": "b5644114",
   "metadata": {},
   "outputs": [],
   "source": [
    "net.from_nx(G)"
   ]
  },
  {
   "cell_type": "code",
   "execution_count": 26,
   "id": "8caf3f3c",
   "metadata": {},
   "outputs": [
    {
     "data": {
      "text/html": [
       "\n",
       "        <iframe\n",
       "            width=\"100%\"\n",
       "            height=\"600px\"\n",
       "            src=\"full_aromatic_network.html\"\n",
       "            frameborder=\"0\"\n",
       "            allowfullscreen\n",
       "            \n",
       "        ></iframe>\n",
       "        "
      ],
      "text/plain": [
       "<IPython.lib.display.IFrame at 0x1646eb040>"
      ]
     },
     "execution_count": 26,
     "metadata": {},
     "output_type": "execute_result"
    }
   ],
   "source": [
    "net.show('full_aromatic_network.html')"
   ]
  },
  {
   "cell_type": "code",
   "execution_count": 27,
   "id": "77f8eaac",
   "metadata": {},
   "outputs": [],
   "source": [
    "net.show_buttons()"
   ]
  },
  {
   "cell_type": "code",
   "execution_count": 28,
   "id": "0c9234a1",
   "metadata": {},
   "outputs": [],
   "source": [
    "#save network\n",
    "nx.write_graphml_xml(G,'LITE1_network.xml')"
   ]
  },
  {
   "cell_type": "code",
   "execution_count": 29,
   "id": "77d6c1f4",
   "metadata": {},
   "outputs": [],
   "source": [
    "bet_centrality = nx.betweenness_centrality(G)"
   ]
  },
  {
   "cell_type": "code",
   "execution_count": 30,
   "id": "09634543",
   "metadata": {},
   "outputs": [
    {
     "data": {
      "text/plain": [
       "{'TRP41': 0.004933110367892976,\n",
       " 'TYR49': 0.009310355506007681,\n",
       " 'TYR52': 0.05325456548282637,\n",
       " 'TYR53': 0.026455800640583248,\n",
       " 'TYR135': 0.10591588363327495,\n",
       " 'TYR288': 0.05389371095892835,\n",
       " 'TYR289': 0.08045690219603263,\n",
       " 'TYR75': 0.015242607633911978,\n",
       " 'TYR233': 0.04045517686822034,\n",
       " 'TYR216': 0.167773199023199,\n",
       " 'TRP77': 0.0,\n",
       " 'TYR295': 0.17024639008334658,\n",
       " 'TYR186': 0.07570672081541652,\n",
       " 'TRP191': 0.07570672081541652,\n",
       " 'TYR193': 0.0012077294685990338,\n",
       " 'TYR196': 0.0,\n",
       " 'TRP319': 0.013043478260869561,\n",
       " 'TRP328': 0.20593933039585216,\n",
       " 'TYR297': 0.12086098281750454,\n",
       " 'TYR396': 0.02597414662632054,\n",
       " 'TYR275': 0.08333333333333333,\n",
       " 'TYR361': 0.0,\n",
       " 'TYR398': 0.15942028985507248,\n",
       " 'TYR414': 0.08333333333333333,\n",
       " 'TRP419': 0.0}"
      ]
     },
     "execution_count": 30,
     "metadata": {},
     "output_type": "execute_result"
    }
   ],
   "source": [
    "bet_centrality"
   ]
  },
  {
   "cell_type": "code",
   "execution_count": 31,
   "id": "1ef66690",
   "metadata": {},
   "outputs": [],
   "source": [
    "values = bet_centrality.values()"
   ]
  },
  {
   "cell_type": "code",
   "execution_count": 32,
   "id": "f97db9a8",
   "metadata": {},
   "outputs": [
    {
     "data": {
      "text/plain": [
       "array([0.        , 0.        , 0.        , 0.        , 0.00120773,\n",
       "       0.00493311, 0.00931036, 0.01304348, 0.01524261, 0.02597415,\n",
       "       0.0264558 , 0.04045518, 0.05325457, 0.05389371, 0.07570672,\n",
       "       0.07570672, 0.0804569 , 0.08333333, 0.08333333, 0.10591588,\n",
       "       0.12086098, 0.15942029, 0.1677732 , 0.17024639, 0.20593933])"
      ]
     },
     "execution_count": 32,
     "metadata": {},
     "output_type": "execute_result"
    }
   ],
   "source": [
    "sort(list(values))"
   ]
  },
  {
   "cell_type": "code",
   "execution_count": 33,
   "id": "36a91532",
   "metadata": {},
   "outputs": [
    {
     "data": {
      "text/plain": [
       "0.20593933039585216"
      ]
     },
     "execution_count": 33,
     "metadata": {},
     "output_type": "execute_result"
    }
   ],
   "source": [
    "bet_centrality['TRP328']"
   ]
  },
  {
   "cell_type": "code",
   "execution_count": 34,
   "id": "7f0f9b90",
   "metadata": {},
   "outputs": [
    {
     "data": {
      "image/png": "[encoded data removed]",
      "text/plain": [
       "<Figure size 432x288 with 1 Axes>"
      ]
     },
     "metadata": {
      "needs_background": "light"
     },
     "output_type": "display_data"
    }
   ],
   "source": [
    "#plot centrality\n",
    "plt.plot(sort(list(values)),'o')\n",
    "plt.xlabel('ordered indices')\n",
    "plt.ylabel('betweenness centrality of nodes')\n",
    "plt.tight_layout()\n",
    "plt.savefig('betweenness_centrality.png')"
   ]
  },
  {
   "cell_type": "markdown",
   "id": "944187e5",
   "metadata": {},
   "source": [
    "Make nicer plot."
   ]
  },
  {
   "cell_type": "code",
   "execution_count": 35,
   "id": "62324e15",
   "metadata": {},
   "outputs": [],
   "source": [
    "import seaborn as sns\n",
    "sns.set_context(\"notebook\")"
   ]
  },
  {
   "cell_type": "code",
   "execution_count": 36,
   "id": "4440ceae",
   "metadata": {},
   "outputs": [
    {
     "data": {
      "text/plain": [
       "array([ 0,  1,  2,  3,  4,  5,  6,  7,  8,  9, 10, 11, 12, 13, 14, 15, 16,\n",
       "       17, 18, 19, 20, 21, 22, 23, 24])"
      ]
     },
     "execution_count": 36,
     "metadata": {},
     "output_type": "execute_result"
    }
   ],
   "source": [
    "indices = np.arange(len(values))\n",
    "indices"
   ]
  },
  {
   "cell_type": "code",
   "execution_count": 41,
   "id": "58144cc8",
   "metadata": {},
   "outputs": [
    {
     "data": {
      "image/png": "[encoded data removed]",
      "text/plain": [
       "<Figure size 396x252 with 1 Axes>"
      ]
     },
     "metadata": {
      "needs_background": "light"
     },
     "output_type": "display_data"
    }
   ],
   "source": [
    "plt.figure(figsize=(5.5,3.5))\n",
    "plt.scatter(indices,sort(list(values)),color='orange',s=60,edgecolors='k',linewidth=2)\n",
    "plt.scatter(indices[-4:],sort(list(values))[-4:],color='yellow',s=60,edgecolors='k',linewidth=2)\n",
    "plt.scatter(indices[-1],sort(list(values))[-1],color='yellowgreen',s=60,edgecolors='k',linewidth=2)\n",
    "plt.xlabel('aromatic residues (sorted)')\n",
    "plt.ylabel('betweenness centrality')\n",
    "plt.tight_layout()\n",
    "plt.savefig('betweenness_centrality_LITE1.svg')"
   ]
  },
  {
   "cell_type": "code",
   "execution_count": null,
   "id": "adb0f3c0",
   "metadata": {},
   "outputs": [],
   "source": []
  }
 ],
 "metadata": {
  "kernelspec": {
   "display_name": "Python [conda env:mdtraj] *",
   "language": "python",
   "name": "conda-env-mdtraj-py"
  },
  "language_info": {
   "codemirror_mode": {
    "name": "ipython",
    "version": 3
   },
   "file_extension": ".py",
   "mimetype": "text/x-python",
   "name": "python",
   "nbconvert_exporter": "python",
   "pygments_lexer": "ipython3",
   "version": "3.10.0"
  }
 },
 "nbformat": 4,
 "nbformat_minor": 5
}
